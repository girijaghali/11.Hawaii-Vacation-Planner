{
 "cells": [
  {
   "cell_type": "markdown",
   "metadata": {},
   "source": [
    "# Step 3 - Climate Analysis and Exploration"
   ]
  },
  {
   "cell_type": "markdown",
   "metadata": {},
   "source": [
    "Ready to use Python and SQLAlchemy to do basic climate analysis and data exploration on your new weather station tables. \n",
    "All of the following analysis will be completed using SQLAlchemy ORM queries, Pandas, and Matplotlib."
   ]
  },
  {
   "cell_type": "markdown",
   "metadata": {},
   "source": [
    "* Create a Jupyter Notebook file called `climate_analysis.ipynb` and use it to complete your climate analysis and data exporation.\n",
    "\n",
    "* Choose a start date and end date for your trip. Make sure that your vacation range is approximately 3-15 days total.\n",
    "\n",
    "* Use SQLAlchemy `create_engine` to connect to your sqlite database.\n",
    "\n",
    "* Use SQLAlchemy `automap_base()` to reflect your tables into classes and save a reference to those classes called `Station` and `Measurement`.\n"
   ]
  },
  {
   "cell_type": "code",
   "execution_count": 111,
   "metadata": {
    "collapsed": true
   },
   "outputs": [],
   "source": [
    "# Import \n",
    "\n",
    "import matplotlib\n",
    "#matplotlib.use('nbagg')\n",
    "#from matplotlib import style\n",
    "#style.use('seaborn')\n",
    "\n",
    "\n",
    "from matplotlib import style\n",
    "style.use('fivethirtyeight')\n",
    "import matplotlib.pyplot as plt\n",
    "import matplotlib.dates as dates\n",
    "\n",
    "import pandas as pd\n",
    "import numpy as np\n",
    "\n",
    "import seaborn as sns\n"
   ]
  },
  {
   "cell_type": "code",
   "execution_count": 112,
   "metadata": {
    "collapsed": true
   },
   "outputs": [],
   "source": [
    "import datetime as dt\n"
   ]
  },
  {
   "cell_type": "code",
   "execution_count": 113,
   "metadata": {
    "collapsed": true
   },
   "outputs": [],
   "source": [
    "vac_start_dt = dt.date(2018, 1 ,1)\n",
    "vac_end_dt = dt.date(2018, 1 ,15)"
   ]
  },
  {
   "cell_type": "code",
   "execution_count": 114,
   "metadata": {
    "collapsed": true
   },
   "outputs": [],
   "source": [
    "# Import SQLAlchemy `automap` and other dependencies here\n",
    "\n",
    "import sqlalchemy\n",
    "from sqlalchemy.ext.automap import automap_base\n",
    "from sqlalchemy.orm import Session\n",
    "from sqlalchemy import create_engine, inspect, func\n"
   ]
  },
  {
   "cell_type": "code",
   "execution_count": 115,
   "metadata": {
    "collapsed": true
   },
   "outputs": [],
   "source": [
    "# Create an engine for the `emoji.sqlite` database\n",
    "engine = create_engine(\"sqlite:///hawaii.sqlite\", echo=False)\n"
   ]
  },
  {
   "cell_type": "code",
   "execution_count": 116,
   "metadata": {},
   "outputs": [
    {
     "data": {
      "text/plain": [
       "['measurement', 'station']"
      ]
     },
     "execution_count": 116,
     "metadata": {},
     "output_type": "execute_result"
    }
   ],
   "source": [
    "# Use the Inspector to explore the database and print the table names\n",
    "inspector = inspect(engine)\n",
    "inspector.get_table_names()"
   ]
  },
  {
   "cell_type": "code",
   "execution_count": 117,
   "metadata": {},
   "outputs": [
    {
     "name": "stdout",
     "output_type": "stream",
     "text": [
      "st_id VARCHAR\n",
      "rec_date VARCHAR\n",
      "prcp FLOAT\n",
      "tobs FLOAT\n"
     ]
    }
   ],
   "source": [
    "# Use Inspector to print the column names and types\n",
    "columns = inspector.get_columns('measurement')\n",
    "for c in columns:\n",
    "    print(c['name'], c[\"type\"])"
   ]
  },
  {
   "cell_type": "code",
   "execution_count": 118,
   "metadata": {},
   "outputs": [
    {
     "name": "stdout",
     "output_type": "stream",
     "text": [
      "st_id VARCHAR\n",
      "st_name VARCHAR\n",
      "st_latitude FLOAT\n",
      "st_longitude FLOAT\n",
      "st_elevation FLOAT\n"
     ]
    }
   ],
   "source": [
    "# Use Inspector to print the column names and types\n",
    "columns = inspector.get_columns('station')\n",
    "for c in columns:\n",
    "    print(c['name'], c[\"type\"])"
   ]
  },
  {
   "cell_type": "code",
   "execution_count": 119,
   "metadata": {
    "collapsed": true
   },
   "outputs": [],
   "source": [
    "# Reflect Database into ORM class\n",
    "Base = automap_base()\n",
    "Base.prepare(engine, reflect=True)\n",
    "Measurement = Base.classes.measurement\n",
    "Station = Base.classes.station"
   ]
  },
  {
   "cell_type": "code",
   "execution_count": 120,
   "metadata": {
    "collapsed": true
   },
   "outputs": [],
   "source": [
    "# Start a session to query the database\n",
    "session = Session(engine)"
   ]
  },
  {
   "cell_type": "code",
   "execution_count": 121,
   "metadata": {},
   "outputs": [
    {
     "data": {
      "text/plain": [
       "[('USC00519397', '2010-01-01', 0.08, 65.0),\n",
       " ('USC00519397', '2010-01-02', 0.0, 63.0),\n",
       " ('USC00519397', '2010-01-03', 0.0, 74.0),\n",
       " ('USC00519397', '2010-01-04', 0.0, 76.0),\n",
       " ('USC00519397', '2010-01-07', 0.06, 70.0),\n",
       " ('USC00519397', '2010-01-08', 0.0, 64.0),\n",
       " ('USC00519397', '2010-01-09', 0.0, 68.0),\n",
       " ('USC00519397', '2010-01-10', 0.0, 73.0),\n",
       " ('USC00519397', '2010-01-11', 0.01, 64.0),\n",
       " ('USC00519397', '2010-01-12', 0.0, 61.0)]"
      ]
     },
     "execution_count": 121,
     "metadata": {},
     "output_type": "execute_result"
    }
   ],
   "source": [
    "engine.execute('SELECT * FROM measurement LIMIT 10').fetchall()"
   ]
  },
  {
   "cell_type": "code",
   "execution_count": 122,
   "metadata": {},
   "outputs": [
    {
     "data": {
      "text/plain": [
       "[('USC00519397', 'WAIKIKI 717.2, HI US', 21.2716, -157.8168, 3.0),\n",
       " ('USC00513117', 'KANEOHE 838.1, HI US', 21.4234, -157.8015, 14.6),\n",
       " ('USC00514830', 'KUALOA RANCH HEADQUARTERS 886.9, HI US', 21.5213, -157.8374, 7.0),\n",
       " ('USC00517948', 'PEARL CITY, HI US', 21.3934, -157.9751, 11.9),\n",
       " ('USC00518838', 'UPPER WAHIAWA 874.3, HI US', 21.4992, -158.0111, 306.6),\n",
       " ('USC00519523', 'WAIMANALO EXPERIMENTAL FARM, HI US', 21.33556, -157.71139, 19.5),\n",
       " ('USC00519281', 'WAIHEE 837.5, HI US', 21.45167, -157.84888999999995, 32.9),\n",
       " ('USC00511918', 'HONOLULU OBSERVATORY 702.2, HI US', 21.3152, -157.9992, 0.9),\n",
       " ('USC00516128', 'MANOA LYON ARBO 785.2, HI US', 21.3331, -157.8025, 152.4)]"
      ]
     },
     "execution_count": 122,
     "metadata": {},
     "output_type": "execute_result"
    }
   ],
   "source": [
    "engine.execute('SELECT * FROM station LIMIT 10').fetchall()"
   ]
  },
  {
   "cell_type": "markdown",
   "metadata": {},
   "source": [
    "# Precipitation Analysis"
   ]
  },
  {
   "cell_type": "markdown",
   "metadata": {},
   "source": [
    "* Design a query to retrieve the last 12 months of precipitation data.\n",
    "\n",
    "* Select only the `date` and `prcp` values.\n",
    "\n",
    "* Load the query results into a Pandas DataFrame and set the index to the date column.\n",
    "\n",
    "* Plot the results using the DataFrame `plot` method.\n",
    "\n",
    "* Use Pandas to print the summary statistics for the precipitation data."
   ]
  },
  {
   "cell_type": "code",
   "execution_count": 123,
   "metadata": {},
   "outputs": [
    {
     "name": "stdout",
     "output_type": "stream",
     "text": [
      "Query Range : 2016-08-23 - 2017-08-23\n"
     ]
    }
   ],
   "source": [
    "qry_end_dt =  engine.execute('SELECT max(rec_date) FROM measurement LIMIT 10').fetchall()\n",
    "\n",
    "\n",
    "qry_end_dt = dt.datetime.strptime(qry_end_dt[0][0], '%Y-%m-%d')\n",
    "qry_start_dt = qry_end_dt - dt.timedelta(days=365)\n",
    "\n",
    "qry_start_dt = qry_start_dt.strftime(\"%Y-%m-%d\")\n",
    "qry_end_dt = qry_end_dt.strftime(\"%Y-%m-%d\")\n",
    "\n",
    "print(f'Query Range : {qry_start_dt} - {qry_end_dt}')\n",
    "\n"
   ]
  },
  {
   "cell_type": "code",
   "execution_count": 124,
   "metadata": {},
   "outputs": [
    {
     "name": "stdout",
     "output_type": "stream",
     "text": [
      "Total records retrieved : 2015\n"
     ]
    },
    {
     "data": {
      "text/html": [
       "<div>\n",
       "<style scoped>\n",
       "    .dataframe tbody tr th:only-of-type {\n",
       "        vertical-align: middle;\n",
       "    }\n",
       "\n",
       "    .dataframe tbody tr th {\n",
       "        vertical-align: top;\n",
       "    }\n",
       "\n",
       "    .dataframe thead th {\n",
       "        text-align: right;\n",
       "    }\n",
       "</style>\n",
       "<table border=\"1\" class=\"dataframe\">\n",
       "  <thead>\n",
       "    <tr style=\"text-align: right;\">\n",
       "      <th></th>\n",
       "      <th>Recorded_Date</th>\n",
       "      <th>Precipitation</th>\n",
       "    </tr>\n",
       "  </thead>\n",
       "  <tbody>\n",
       "    <tr>\n",
       "      <th>0</th>\n",
       "      <td>2016-08-24</td>\n",
       "      <td>0.08</td>\n",
       "    </tr>\n",
       "    <tr>\n",
       "      <th>1</th>\n",
       "      <td>2016-08-25</td>\n",
       "      <td>0.08</td>\n",
       "    </tr>\n",
       "    <tr>\n",
       "      <th>2</th>\n",
       "      <td>2016-08-26</td>\n",
       "      <td>0.00</td>\n",
       "    </tr>\n",
       "    <tr>\n",
       "      <th>3</th>\n",
       "      <td>2016-08-27</td>\n",
       "      <td>0.00</td>\n",
       "    </tr>\n",
       "    <tr>\n",
       "      <th>4</th>\n",
       "      <td>2016-08-28</td>\n",
       "      <td>0.01</td>\n",
       "    </tr>\n",
       "  </tbody>\n",
       "</table>\n",
       "</div>"
      ],
      "text/plain": [
       "  Recorded_Date  Precipitation\n",
       "0    2016-08-24           0.08\n",
       "1    2016-08-25           0.08\n",
       "2    2016-08-26           0.00\n",
       "3    2016-08-27           0.00\n",
       "4    2016-08-28           0.01"
      ]
     },
     "execution_count": 124,
     "metadata": {},
     "output_type": "execute_result"
    }
   ],
   "source": [
    "\n",
    "prcp_stmt = session.query(Measurement.rec_date, Measurement.prcp).\\\n",
    "    filter(Measurement.rec_date > qry_start_dt).\\\n",
    "    filter(Measurement.rec_date <= qry_end_dt).statement\n",
    "\n",
    "\n",
    "\n",
    "    \n",
    "prcp_DF = pd.read_sql_query(prcp_stmt, session.bind)\n",
    "print(f\"Total records retrieved : {len(prcp_DF)}\")\n",
    "\n",
    "\n",
    "\n",
    "prcp_DF = prcp_DF.rename(columns={'rec_date': 'Recorded_Date' , 'prcp': 'Precipitation' })\n",
    "prcp_DF.head()"
   ]
  },
  {
   "cell_type": "code",
   "execution_count": 125,
   "metadata": {},
   "outputs": [
    {
     "name": "stdout",
     "output_type": "stream",
     "text": [
      "2016-08-24 00:00:00\n",
      "2017-08-23 00:00:00\n"
     ]
    }
   ],
   "source": [
    "prcp_DF['Recorded_Date'] = pd.to_datetime(prcp_DF['Recorded_Date'], format =\"%Y-%m-%d\")\n",
    "\n",
    "prcp_DF.head()\n",
    "\n",
    "print(min(prcp_DF['Recorded_Date']))\n",
    "print(max(prcp_DF['Recorded_Date']))\n",
    "\n",
    "\n"
   ]
  },
  {
   "cell_type": "code",
   "execution_count": 126,
   "metadata": {},
   "outputs": [
    {
     "data": {
      "text/html": [
       "<div>\n",
       "<style scoped>\n",
       "    .dataframe tbody tr th:only-of-type {\n",
       "        vertical-align: middle;\n",
       "    }\n",
       "\n",
       "    .dataframe tbody tr th {\n",
       "        vertical-align: top;\n",
       "    }\n",
       "\n",
       "    .dataframe thead th {\n",
       "        text-align: right;\n",
       "    }\n",
       "</style>\n",
       "<table border=\"1\" class=\"dataframe\">\n",
       "  <thead>\n",
       "    <tr style=\"text-align: right;\">\n",
       "      <th></th>\n",
       "      <th>Precipitation</th>\n",
       "    </tr>\n",
       "    <tr>\n",
       "      <th>Recorded_Date</th>\n",
       "      <th></th>\n",
       "    </tr>\n",
       "  </thead>\n",
       "  <tbody>\n",
       "    <tr>\n",
       "      <th>2016-08-24</th>\n",
       "      <td>0.08</td>\n",
       "    </tr>\n",
       "    <tr>\n",
       "      <th>2016-08-25</th>\n",
       "      <td>0.08</td>\n",
       "    </tr>\n",
       "    <tr>\n",
       "      <th>2016-08-26</th>\n",
       "      <td>0.00</td>\n",
       "    </tr>\n",
       "    <tr>\n",
       "      <th>2016-08-27</th>\n",
       "      <td>0.00</td>\n",
       "    </tr>\n",
       "    <tr>\n",
       "      <th>2016-08-28</th>\n",
       "      <td>0.01</td>\n",
       "    </tr>\n",
       "  </tbody>\n",
       "</table>\n",
       "</div>"
      ],
      "text/plain": [
       "               Precipitation\n",
       "Recorded_Date               \n",
       "2016-08-24              0.08\n",
       "2016-08-25              0.08\n",
       "2016-08-26              0.00\n",
       "2016-08-27              0.00\n",
       "2016-08-28              0.01"
      ]
     },
     "execution_count": 126,
     "metadata": {},
     "output_type": "execute_result"
    }
   ],
   "source": [
    "prcp_DF = prcp_DF.set_index('Recorded_Date')\n",
    "prcp_DF.head()"
   ]
  },
  {
   "cell_type": "code",
   "execution_count": 127,
   "metadata": {
    "scrolled": true
   },
   "outputs": [
    {
     "data": {
      "image/png": "[encoded data removed]",
      "text/plain": [
       "<matplotlib.figure.Figure at 0x1a12b00710>"
      ]
     },
     "metadata": {},
     "output_type": "display_data"
    }
   ],
   "source": [
    "\n",
    "prcp_DF.plot(figsize=(20,5))\n",
    "plt.title(\"Precipitation by Day fr Last 12 months\")\n",
    "plt.ylabel(\"Precipitation (Inches)\")\n",
    "plt.xticks(rotation=360)\n",
    "plt.savefig('plots/precip.png')\n",
    "plt.show()\n",
    "\n"
   ]
  },
  {
   "cell_type": "code",
   "execution_count": 128,
   "metadata": {},
   "outputs": [
    {
     "data": {
      "text/html": [
       "<div>\n",
       "<style scoped>\n",
       "    .dataframe tbody tr th:only-of-type {\n",
       "        vertical-align: middle;\n",
       "    }\n",
       "\n",
       "    .dataframe tbody tr th {\n",
       "        vertical-align: top;\n",
       "    }\n",
       "\n",
       "    .dataframe thead th {\n",
       "        text-align: right;\n",
       "    }\n",
       "</style>\n",
       "<table border=\"1\" class=\"dataframe\">\n",
       "  <thead>\n",
       "    <tr style=\"text-align: right;\">\n",
       "      <th></th>\n",
       "      <th>Precipitation</th>\n",
       "    </tr>\n",
       "  </thead>\n",
       "  <tbody>\n",
       "    <tr>\n",
       "      <th>count</th>\n",
       "      <td>2015.000000</td>\n",
       "    </tr>\n",
       "    <tr>\n",
       "      <th>mean</th>\n",
       "      <td>0.176462</td>\n",
       "    </tr>\n",
       "    <tr>\n",
       "      <th>std</th>\n",
       "      <td>0.460288</td>\n",
       "    </tr>\n",
       "    <tr>\n",
       "      <th>min</th>\n",
       "      <td>0.000000</td>\n",
       "    </tr>\n",
       "    <tr>\n",
       "      <th>25%</th>\n",
       "      <td>0.000000</td>\n",
       "    </tr>\n",
       "    <tr>\n",
       "      <th>50%</th>\n",
       "      <td>0.020000</td>\n",
       "    </tr>\n",
       "    <tr>\n",
       "      <th>75%</th>\n",
       "      <td>0.130000</td>\n",
       "    </tr>\n",
       "    <tr>\n",
       "      <th>max</th>\n",
       "      <td>6.700000</td>\n",
       "    </tr>\n",
       "  </tbody>\n",
       "</table>\n",
       "</div>"
      ],
      "text/plain": [
       "       Precipitation\n",
       "count    2015.000000\n",
       "mean        0.176462\n",
       "std         0.460288\n",
       "min         0.000000\n",
       "25%         0.000000\n",
       "50%         0.020000\n",
       "75%         0.130000\n",
       "max         6.700000"
      ]
     },
     "execution_count": 128,
     "metadata": {},
     "output_type": "execute_result"
    }
   ],
   "source": [
    "prcp_DF.describe()"
   ]
  },
  {
   "cell_type": "markdown",
   "metadata": {},
   "source": [
    "# Station Analysis"
   ]
  },
  {
   "cell_type": "markdown",
   "metadata": {},
   "source": [
    "* Design a query to calculate the total number of stations.\n",
    "\n",
    "* Design a query to find the most active stations.\n",
    "\n",
    "  * List the stations and observation counts in descending order\n",
    "\n",
    "  * Which station has the highest number of observations?\n",
    "\n",
    "* Design a query to retrieve the last 12 months of temperature observation data (tobs).\n",
    "\n",
    "  * Filter by the station with the highest number of observations.\n",
    "\n",
    "  * Plot the results as a histogram with `bins=12`.\n"
   ]
  },
  {
   "cell_type": "code",
   "execution_count": 129,
   "metadata": {},
   "outputs": [
    {
     "name": "stdout",
     "output_type": "stream",
     "text": [
      "Total Stations : 9\n"
     ]
    }
   ],
   "source": [
    "station_cnt = session.query(Station).count()\n",
    "print('Total Stations : '+ str(station_cnt))"
   ]
  },
  {
   "cell_type": "code",
   "execution_count": 130,
   "metadata": {},
   "outputs": [
    {
     "name": "stdout",
     "output_type": "stream",
     "text": [
      "SELECT station.st_id, count(measurement.st_id) AS count_obs \n",
      "FROM station, measurement \n",
      "WHERE station.st_id = measurement.st_id GROUP BY station.st_id ORDER BY count_obs DESC\n",
      " LIMIT :param_1\n",
      "USC00519281\n"
     ]
    },
    {
     "name": "stderr",
     "output_type": "stream",
     "text": [
      "/Users/Hadoop/anaconda3/envs/PythonData1/lib/python3.6/site-packages/sqlalchemy/sql/compiler.py:643: SAWarning: Can't resolve label reference 'count_obs DESC'; converting to text() (this warning may be suppressed after 10 occurrences)\n",
      "  util.ellipses_string(element.element))\n"
     ]
    }
   ],
   "source": [
    "sel = [Station.st_id,\n",
    "       func.count(Measurement.st_id).label('count_obs')]\n",
    "    \n",
    "\n",
    "st_pf_qry = session.query(*sel).filter(Station.st_id == Measurement.st_id).\\\n",
    "            group_by(Station.st_id).order_by('count_obs DESC').limit(1).statement\n",
    "print(st_pf_qry)\n",
    "\n",
    "\n",
    "station_performance = pd.read_sql_query(st_pf_qry, session.bind)\n",
    "\n",
    "station_performance.head()\n",
    "\n",
    "print(station_performance['st_id'][0])"
   ]
  },
  {
   "cell_type": "code",
   "execution_count": 131,
   "metadata": {},
   "outputs": [
    {
     "name": "stdout",
     "output_type": "stream",
     "text": [
      "2016-08-23\n",
      "2017-08-23\n",
      "SELECT station.st_id, measurement.rec_date, measurement.tobs \n",
      "FROM station, measurement \n",
      "WHERE station.st_id = measurement.st_id AND measurement.rec_date >= :rec_date_1 AND measurement.rec_date <= :rec_date_2 AND measurement.st_id = :st_id_1\n"
     ]
    },
    {
     "data": {
      "text/html": [
       "<div>\n",
       "<style scoped>\n",
       "    .dataframe tbody tr th:only-of-type {\n",
       "        vertical-align: middle;\n",
       "    }\n",
       "\n",
       "    .dataframe tbody tr th {\n",
       "        vertical-align: top;\n",
       "    }\n",
       "\n",
       "    .dataframe thead th {\n",
       "        text-align: right;\n",
       "    }\n",
       "</style>\n",
       "<table border=\"1\" class=\"dataframe\">\n",
       "  <thead>\n",
       "    <tr style=\"text-align: right;\">\n",
       "      <th></th>\n",
       "      <th>st_id</th>\n",
       "      <th>rec_date</th>\n",
       "      <th>tobs</th>\n",
       "    </tr>\n",
       "  </thead>\n",
       "  <tbody>\n",
       "    <tr>\n",
       "      <th>0</th>\n",
       "      <td>USC00519281</td>\n",
       "      <td>2016-08-23</td>\n",
       "      <td>77.0</td>\n",
       "    </tr>\n",
       "    <tr>\n",
       "      <th>1</th>\n",
       "      <td>USC00519281</td>\n",
       "      <td>2016-08-24</td>\n",
       "      <td>77.0</td>\n",
       "    </tr>\n",
       "    <tr>\n",
       "      <th>2</th>\n",
       "      <td>USC00519281</td>\n",
       "      <td>2016-08-25</td>\n",
       "      <td>80.0</td>\n",
       "    </tr>\n",
       "    <tr>\n",
       "      <th>3</th>\n",
       "      <td>USC00519281</td>\n",
       "      <td>2016-08-26</td>\n",
       "      <td>80.0</td>\n",
       "    </tr>\n",
       "    <tr>\n",
       "      <th>4</th>\n",
       "      <td>USC00519281</td>\n",
       "      <td>2016-08-27</td>\n",
       "      <td>75.0</td>\n",
       "    </tr>\n",
       "  </tbody>\n",
       "</table>\n",
       "</div>"
      ],
      "text/plain": [
       "         st_id    rec_date  tobs\n",
       "0  USC00519281  2016-08-23  77.0\n",
       "1  USC00519281  2016-08-24  77.0\n",
       "2  USC00519281  2016-08-25  80.0\n",
       "3  USC00519281  2016-08-26  80.0\n",
       "4  USC00519281  2016-08-27  75.0"
      ]
     },
     "execution_count": 131,
     "metadata": {},
     "output_type": "execute_result"
    }
   ],
   "source": [
    "print(qry_start_dt)\n",
    "print(qry_end_dt)\n",
    "\n",
    "actv_sta_temp_stmt = session.query(Station.st_id,Measurement.rec_date, Measurement.tobs).\\\n",
    "    filter(Station.st_id == Measurement.st_id).\\\n",
    "    filter(Measurement.rec_date >= qry_start_dt).\\\n",
    "    filter(Measurement.rec_date <= qry_end_dt).\\\n",
    "    filter(Measurement.st_id == station_performance['st_id'][0]).statement\n",
    "\n",
    "\n",
    "print(actv_sta_temp_stmt)\n",
    "\n",
    "actv_sta_temp_stmt_DF = pd.read_sql_query(actv_sta_temp_stmt, session.bind)\n",
    "\n",
    "actv_sta_temp_stmt_DF.head()"
   ]
  },
  {
   "cell_type": "code",
   "execution_count": 132,
   "metadata": {},
   "outputs": [
    {
     "data": {
      "image/png": "[encoded data removed]",
      "text/plain": [
       "<matplotlib.figure.Figure at 0x1a1247a9b0>"
      ]
     },
     "metadata": {},
     "output_type": "display_data"
    }
   ],
   "source": [
    "actv_sta_temp_stmt_DF.plot.hist(by=\"tobs\",bins=12)\n",
    "\n",
    "plt.savefig('plots/temp_hist.png')\n",
    "plt.show()"
   ]
  },
  {
   "cell_type": "markdown",
   "metadata": {},
   "source": [
    "# Temparature Analysis"
   ]
  },
  {
   "cell_type": "markdown",
   "metadata": {},
   "source": [
    "* Write a function called `calc_temps` that will accept a start date and end date in the format `%Y-%m-%d` and return the minimum, average, and maximum temperatures for that range of dates.\n",
    "\n",
    "* Use the `calc_temps` function to calculate the min, avg, and max temperatures for your trip using the matching dates from the previous year (i.e. use \"2017-01-01\" if your trip start date was \"2018-01-01\")\n",
    "\n",
    "* Plot the min, avg, and max temperature from your previous query as a bar chart.\n",
    "\n",
    "  * Use the average temperature as the bar height.\n",
    "\n",
    "  * Use the peak-to-peak (tmax-tmin) value as the y error bar (yerr).\n"
   ]
  },
  {
   "cell_type": "code",
   "execution_count": 133,
   "metadata": {
    "collapsed": true
   },
   "outputs": [],
   "source": [
    "def calc_temps(start_date,end_date):\n",
    "    sel = [func.min(Measurement.tobs).label('MinimumTemparature'),\n",
    "           func.max(Measurement.tobs).label('MaximumTemparature'),\n",
    "           func.avg(Measurement.tobs).label('AverageTemparature')\n",
    "          ]\n",
    "    \n",
    "    calc_temp_values = session.query(*sel).\\\n",
    "                     filter(Measurement.rec_date >= start_date).\\\n",
    "                     filter(Measurement.rec_date <= end_date).\\\n",
    "                     all()\n",
    "    \n",
    "    print(calc_temp_values)\n",
    "    return(calc_temp_values)\n",
    "   "
   ]
  },
  {
   "cell_type": "code",
   "execution_count": 134,
   "metadata": {},
   "outputs": [
    {
     "name": "stdout",
     "output_type": "stream",
     "text": [
      "Vacation plennaed for dates : from 2018-01-01 to 2018-01-15\n",
      "Vacation matching dates last year : from 2017-01-01 to 2017-01-15\n"
     ]
    }
   ],
   "source": [
    "vac_lastyr_start_dt = vac_start_dt - dt.timedelta(days=365)\n",
    "vac_lastyr_end_dt = vac_end_dt - dt.timedelta(days=365)\n",
    "\n",
    "\n",
    "print(f\"Vacation plennaed for dates : from {vac_start_dt} to {vac_end_dt}\" )\n",
    "print(f\"Vacation matching dates last year : from {vac_lastyr_start_dt} to {vac_lastyr_end_dt}\" )\n"
   ]
  },
  {
   "cell_type": "code",
   "execution_count": 135,
   "metadata": {},
   "outputs": [
    {
     "name": "stdout",
     "output_type": "stream",
     "text": [
      "[(60.0, 78.0, 68.20253164556962)]\n"
     ]
    },
    {
     "data": {
      "text/html": [
       "<div>\n",
       "<style scoped>\n",
       "    .dataframe tbody tr th:only-of-type {\n",
       "        vertical-align: middle;\n",
       "    }\n",
       "\n",
       "    .dataframe tbody tr th {\n",
       "        vertical-align: top;\n",
       "    }\n",
       "\n",
       "    .dataframe thead th {\n",
       "        text-align: right;\n",
       "    }\n",
       "</style>\n",
       "<table border=\"1\" class=\"dataframe\">\n",
       "  <thead>\n",
       "    <tr style=\"text-align: right;\">\n",
       "      <th></th>\n",
       "      <th>MinimumTemparature</th>\n",
       "      <th>MaximumTemparature</th>\n",
       "      <th>AverageTemparature</th>\n",
       "    </tr>\n",
       "  </thead>\n",
       "  <tbody>\n",
       "    <tr>\n",
       "      <th>0</th>\n",
       "      <td>60.0</td>\n",
       "      <td>78.0</td>\n",
       "      <td>68.202532</td>\n",
       "    </tr>\n",
       "  </tbody>\n",
       "</table>\n",
       "</div>"
      ],
      "text/plain": [
       "   MinimumTemparature  MaximumTemparature  AverageTemparature\n",
       "0                60.0                78.0           68.202532"
      ]
     },
     "execution_count": 135,
     "metadata": {},
     "output_type": "execute_result"
    }
   ],
   "source": [
    "calc_temp_values = calc_temps(vac_lastyr_start_dt,vac_lastyr_end_dt)\n",
    "temp_values_DF = pd.DataFrame(calc_temp_values)\n",
    "temp_values_DF"
   ]
  },
  {
   "cell_type": "code",
   "execution_count": 136,
   "metadata": {},
   "outputs": [
    {
     "data": {
      "image/png": "[encoded data removed]",
      "text/plain": [
       "<matplotlib.figure.Figure at 0x1028a70b8>"
      ]
     },
     "metadata": {},
     "output_type": "display_data"
    }
   ],
   "source": [
    "temp_values_DF.plot.bar(y='AverageTemparature',stacked=True\n",
    "                        , yerr=temp_values_DF['MaximumTemparature'][0]-temp_values_DF['MinimumTemparature'][0]\n",
    "                        , figsize=(3,8),legend=False,color='Orange')\n",
    "plt.xlabel(' ')\n",
    "plt.xticks([0], [\" \"])\n",
    "plt.ylabel('Temp (F)')\n",
    "plt.ylim(0,100)\n",
    "plt.title('Trip Avg temp')\n",
    "plt.savefig('plots/temp_avg.png')"
   ]
  },
  {
   "cell_type": "markdown",
   "metadata": {},
   "source": [
    "# Optional Analysis : Rainfall"
   ]
  },
  {
   "cell_type": "markdown",
   "metadata": {},
   "source": [
    "* The following are optional challenge queries. These are highly recommended to attempt, but not required for the homework.\n",
    "\n",
    "  * Calcualte the rainfall per weather station using the previous year's matching dates.\n",
    "\n",
    "* Calculate the daily normals. Normals are the averages for min, avg, and max temperatures.\n",
    "\n",
    "  * Create a function called `daily_normals` that will calculate the daily normals for a specific date. This date string will be in the format `%m-%d`. Be sure to use all historic tobs that match that date string.\n",
    "\n",
    "  * Create a list of dates for your trip in the format `%m-%d`. Use the `daily_normals` function to calculate the normals for each date string and append the results to a list.\n",
    "\n",
    "  * Load the list of daily normals into a Pandas DataFrame and set the index equal to the date.\n",
    "\n",
    "  * Use Pandas to plot an area plot (`stacked=False`) for the daily normals.\n"
   ]
  },
  {
   "cell_type": "code",
   "execution_count": 137,
   "metadata": {},
   "outputs": [
    {
     "data": {
      "text/html": [
       "<div>\n",
       "<style scoped>\n",
       "    .dataframe tbody tr th:only-of-type {\n",
       "        vertical-align: middle;\n",
       "    }\n",
       "\n",
       "    .dataframe tbody tr th {\n",
       "        vertical-align: top;\n",
       "    }\n",
       "\n",
       "    .dataframe thead th {\n",
       "        text-align: right;\n",
       "    }\n",
       "</style>\n",
       "<table border=\"1\" class=\"dataframe\">\n",
       "  <thead>\n",
       "    <tr style=\"text-align: right;\">\n",
       "      <th></th>\n",
       "      <th>st_id</th>\n",
       "      <th>AverageRainfall</th>\n",
       "    </tr>\n",
       "  </thead>\n",
       "  <tbody>\n",
       "    <tr>\n",
       "      <th>0</th>\n",
       "      <td>USC00513117</td>\n",
       "      <td>0.141429</td>\n",
       "    </tr>\n",
       "    <tr>\n",
       "      <th>1</th>\n",
       "      <td>USC00514830</td>\n",
       "      <td>0.125434</td>\n",
       "    </tr>\n",
       "    <tr>\n",
       "      <th>2</th>\n",
       "      <td>USC00516128</td>\n",
       "      <td>0.450640</td>\n",
       "    </tr>\n",
       "    <tr>\n",
       "      <th>3</th>\n",
       "      <td>USC00517948</td>\n",
       "      <td>0.076500</td>\n",
       "    </tr>\n",
       "    <tr>\n",
       "      <th>4</th>\n",
       "      <td>USC00519281</td>\n",
       "      <td>0.198949</td>\n",
       "    </tr>\n",
       "    <tr>\n",
       "      <th>5</th>\n",
       "      <td>USC00519397</td>\n",
       "      <td>0.044819</td>\n",
       "    </tr>\n",
       "    <tr>\n",
       "      <th>6</th>\n",
       "      <td>USC00519523</td>\n",
       "      <td>0.121051</td>\n",
       "    </tr>\n",
       "  </tbody>\n",
       "</table>\n",
       "</div>"
      ],
      "text/plain": [
       "         st_id  AverageRainfall\n",
       "0  USC00513117         0.141429\n",
       "1  USC00514830         0.125434\n",
       "2  USC00516128         0.450640\n",
       "3  USC00517948         0.076500\n",
       "4  USC00519281         0.198949\n",
       "5  USC00519397         0.044819\n",
       "6  USC00519523         0.121051"
      ]
     },
     "execution_count": 137,
     "metadata": {},
     "output_type": "execute_result"
    }
   ],
   "source": [
    "sta_rainfall_stmt = session.query(Station.st_id,func.avg(Measurement.prcp).label('AverageRainfall')).\\\n",
    "    filter(Station.st_id == Measurement.st_id).\\\n",
    "    filter(Measurement.rec_date >= qry_start_dt).\\\n",
    "    filter(Measurement.rec_date <= qry_end_dt).\\\n",
    "    group_by(Station.st_id).statement\n",
    "\n",
    "\n",
    "sta_rainfall_DF = pd.read_sql_query(sta_rainfall_stmt, session.bind)\n",
    "\n",
    "sta_rainfall_DF.head(10)"
   ]
  },
  {
   "cell_type": "code",
   "execution_count": 138,
   "metadata": {
    "collapsed": true
   },
   "outputs": [],
   "source": [
    "def daily_normals(datestring):\n",
    "    #print(datestring)\n",
    "    sel = [func.min(Measurement.tobs)\n",
    "          ,func.avg(Measurement.tobs)\n",
    "          ,func.max(Measurement.tobs)\n",
    "          ]\n",
    "    daily_data=session.query(*sel).\\\n",
    "                filter(func.strftime(\"%m-%d\" , Measurement.rec_date) == datestring).\\\n",
    "                group_by(func.strftime(\"%m-%d\" , Measurement.rec_date)).all()\n",
    "    return(daily_data)\n"
   ]
  },
  {
   "cell_type": "code",
   "execution_count": 139,
   "metadata": {},
   "outputs": [
    {
     "name": "stdout",
     "output_type": "stream",
     "text": [
      "Vacation matching dates last year : from 2017-01-01 to 2017-01-15\n",
      "[62.0, 60.0, 62.0, 58.0, 56.0, 61.0, 57.0, 57.0, 58.0, 62.0, 57.0, 57.0, 57.0, 58.0]\n",
      "[77.0, 77.0, 77.0, 76.0, 76.0, 76.0, 76.0, 75.0, 78.0, 77.0, 78.0, 80.0, 77.0, 77.0]\n",
      "[69.06, 69.40816326530613, 68.83333333333333, 69.83636363636364, 68.0, 68.88679245283019, 68.38181818181818, 67.2, 68.07272727272728, 69.81132075471699, 67.07843137254902, 67.12, 66.68085106382979, 69.42592592592592]\n"
     ]
    }
   ],
   "source": [
    "print(f\"Vacation matching dates last year : from {vac_lastyr_start_dt} to {vac_lastyr_end_dt}\" )\n",
    "\n",
    "trip_dates = []\n",
    "trip_dates_val = []\n",
    "for day in range(int ((vac_lastyr_end_dt-vac_lastyr_start_dt).days)):\n",
    "    date_val = vac_lastyr_start_dt + dt.timedelta(day)\n",
    "    trip_dates.append(date_val)\n",
    "    date_val = dt.datetime.strftime(date_val,\"%m-%d\")\n",
    "    trip_dates_val.append(date_val)\n",
    "    \n",
    "    \n",
    "trip_daily_normals =[]\n",
    "trip_daily_min=[]\n",
    "trip_daily_max=[]\n",
    "trip_daily_avg=[]\n",
    "\n",
    "for day in trip_dates_val:\n",
    "    trip_daily_normals=daily_normals(day)   \n",
    "    trip_daily_min.append(trip_daily_normals[0][0])\n",
    "    trip_daily_avg.append(trip_daily_normals[0][1])\n",
    "    trip_daily_max.append(trip_daily_normals[0][2])\n",
    "    \n",
    "print(trip_daily_min)\n",
    "print(trip_daily_max)\n",
    "print(trip_daily_avg)"
   ]
  },
  {
   "cell_type": "code",
   "execution_count": 140,
   "metadata": {},
   "outputs": [
    {
     "data": {
      "text/html": [
       "<div>\n",
       "<style scoped>\n",
       "    .dataframe tbody tr th:only-of-type {\n",
       "        vertical-align: middle;\n",
       "    }\n",
       "\n",
       "    .dataframe tbody tr th {\n",
       "        vertical-align: top;\n",
       "    }\n",
       "\n",
       "    .dataframe thead th {\n",
       "        text-align: right;\n",
       "    }\n",
       "</style>\n",
       "<table border=\"1\" class=\"dataframe\">\n",
       "  <thead>\n",
       "    <tr style=\"text-align: right;\">\n",
       "      <th></th>\n",
       "      <th>avgtemp</th>\n",
       "      <th>date</th>\n",
       "      <th>maxtemp</th>\n",
       "      <th>mintemp</th>\n",
       "    </tr>\n",
       "  </thead>\n",
       "  <tbody>\n",
       "    <tr>\n",
       "      <th>0</th>\n",
       "      <td>69.060000</td>\n",
       "      <td>2017-01-01</td>\n",
       "      <td>77.0</td>\n",
       "      <td>62.0</td>\n",
       "    </tr>\n",
       "    <tr>\n",
       "      <th>1</th>\n",
       "      <td>69.408163</td>\n",
       "      <td>2017-01-02</td>\n",
       "      <td>77.0</td>\n",
       "      <td>60.0</td>\n",
       "    </tr>\n",
       "    <tr>\n",
       "      <th>2</th>\n",
       "      <td>68.833333</td>\n",
       "      <td>2017-01-03</td>\n",
       "      <td>77.0</td>\n",
       "      <td>62.0</td>\n",
       "    </tr>\n",
       "    <tr>\n",
       "      <th>3</th>\n",
       "      <td>69.836364</td>\n",
       "      <td>2017-01-04</td>\n",
       "      <td>76.0</td>\n",
       "      <td>58.0</td>\n",
       "    </tr>\n",
       "    <tr>\n",
       "      <th>4</th>\n",
       "      <td>68.000000</td>\n",
       "      <td>2017-01-05</td>\n",
       "      <td>76.0</td>\n",
       "      <td>56.0</td>\n",
       "    </tr>\n",
       "    <tr>\n",
       "      <th>5</th>\n",
       "      <td>68.886792</td>\n",
       "      <td>2017-01-06</td>\n",
       "      <td>76.0</td>\n",
       "      <td>61.0</td>\n",
       "    </tr>\n",
       "    <tr>\n",
       "      <th>6</th>\n",
       "      <td>68.381818</td>\n",
       "      <td>2017-01-07</td>\n",
       "      <td>76.0</td>\n",
       "      <td>57.0</td>\n",
       "    </tr>\n",
       "    <tr>\n",
       "      <th>7</th>\n",
       "      <td>67.200000</td>\n",
       "      <td>2017-01-08</td>\n",
       "      <td>75.0</td>\n",
       "      <td>57.0</td>\n",
       "    </tr>\n",
       "    <tr>\n",
       "      <th>8</th>\n",
       "      <td>68.072727</td>\n",
       "      <td>2017-01-09</td>\n",
       "      <td>78.0</td>\n",
       "      <td>58.0</td>\n",
       "    </tr>\n",
       "    <tr>\n",
       "      <th>9</th>\n",
       "      <td>69.811321</td>\n",
       "      <td>2017-01-10</td>\n",
       "      <td>77.0</td>\n",
       "      <td>62.0</td>\n",
       "    </tr>\n",
       "    <tr>\n",
       "      <th>10</th>\n",
       "      <td>67.078431</td>\n",
       "      <td>2017-01-11</td>\n",
       "      <td>78.0</td>\n",
       "      <td>57.0</td>\n",
       "    </tr>\n",
       "    <tr>\n",
       "      <th>11</th>\n",
       "      <td>67.120000</td>\n",
       "      <td>2017-01-12</td>\n",
       "      <td>80.0</td>\n",
       "      <td>57.0</td>\n",
       "    </tr>\n",
       "    <tr>\n",
       "      <th>12</th>\n",
       "      <td>66.680851</td>\n",
       "      <td>2017-01-13</td>\n",
       "      <td>77.0</td>\n",
       "      <td>57.0</td>\n",
       "    </tr>\n",
       "    <tr>\n",
       "      <th>13</th>\n",
       "      <td>69.425926</td>\n",
       "      <td>2017-01-14</td>\n",
       "      <td>77.0</td>\n",
       "      <td>58.0</td>\n",
       "    </tr>\n",
       "  </tbody>\n",
       "</table>\n",
       "</div>"
      ],
      "text/plain": [
       "      avgtemp        date  maxtemp  mintemp\n",
       "0   69.060000  2017-01-01     77.0     62.0\n",
       "1   69.408163  2017-01-02     77.0     60.0\n",
       "2   68.833333  2017-01-03     77.0     62.0\n",
       "3   69.836364  2017-01-04     76.0     58.0\n",
       "4   68.000000  2017-01-05     76.0     56.0\n",
       "5   68.886792  2017-01-06     76.0     61.0\n",
       "6   68.381818  2017-01-07     76.0     57.0\n",
       "7   67.200000  2017-01-08     75.0     57.0\n",
       "8   68.072727  2017-01-09     78.0     58.0\n",
       "9   69.811321  2017-01-10     77.0     62.0\n",
       "10  67.078431  2017-01-11     78.0     57.0\n",
       "11  67.120000  2017-01-12     80.0     57.0\n",
       "12  66.680851  2017-01-13     77.0     57.0\n",
       "13  69.425926  2017-01-14     77.0     58.0"
      ]
     },
     "execution_count": 140,
     "metadata": {},
     "output_type": "execute_result"
    }
   ],
   "source": [
    "trip_daily_normals_dict = { 'date':trip_dates,\n",
    "                            'mintemp':trip_daily_min,\n",
    "                            'avgtemp':trip_daily_avg,\n",
    "                            'maxtemp':trip_daily_max\n",
    "                          }\n",
    "trip_daily_normals_df = pd.DataFrame(trip_daily_normals_dict)\n",
    "trip_daily_normals_df.head(20)\n"
   ]
  },
  {
   "cell_type": "code",
   "execution_count": 141,
   "metadata": {
    "collapsed": true
   },
   "outputs": [],
   "source": [
    "trip_daily_normals_df= trip_daily_normals_df.set_index(\"date\")"
   ]
  },
  {
   "cell_type": "code",
   "execution_count": 142,
   "metadata": {},
   "outputs": [
    {
     "data": {
      "image/png": "[encoded data removed]",
      "text/plain": [
       "<matplotlib.figure.Figure at 0x1031bc828>"
      ]
     },
     "metadata": {},
     "output_type": "display_data"
    }
   ],
   "source": [
    "\n",
    "trip_daily_normals_df.plot(kind=\"area\", stacked=False)\n",
    "#plt.xticks(list(trip_daily_normals_df.index))\n",
    "plt.xticks(rotation=45)\n",
    "\n",
    "plt.savefig('plots/daily_normals.png')\n",
    "plt.show()"
   ]
  },
  {
   "cell_type": "code",
   "execution_count": null,
   "metadata": {
    "collapsed": true
   },
   "outputs": [],
   "source": []
  }
 ],
 "metadata": {
  "kernelspec": {
   "display_name": "Python [conda env:PythonData1]",
   "language": "python",
   "name": "conda-env-PythonData1-py"
  },
  "language_info": {
   "codemirror_mode": {
    "name": "ipython",
    "version": 3
   },
   "file_extension": ".py",
   "mimetype": "text/x-python",
   "name": "python",
   "nbconvert_exporter": "python",
   "pygments_lexer": "ipython3",
   "version": "3.6.4"
  }
 },
 "nbformat": 4,
 "nbformat_minor": 2
}
